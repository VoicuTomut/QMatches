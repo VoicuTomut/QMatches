{
 "cells": [
  {
   "cell_type": "code",
   "execution_count": 2,
   "id": "da68d335",
   "metadata": {},
   "outputs": [],
   "source": [
    "import  numpy as np\n",
    "from scipy.linalg import expm,logm, sinm, cosm\n",
    "\n",
    "from qiskit import BasicAer, Aer,execute, IBMQ\n",
    "from qiskit import QuantumRegister ,ClassicalRegister,QuantumCircuit\n",
    "from qiskit.providers.aer import extensions "
   ]
  },
  {
   "cell_type": "code",
   "execution_count": 3,
   "id": "f9a6f679",
   "metadata": {},
   "outputs": [],
   "source": [
    "from qmatches.initialize import init_xo\n",
    "\n",
    "from qmatches.mat_tools.matrix import *\n",
    "from qmatches.mat_tools.space_builder import COp"
   ]
  },
  {
   "cell_type": "code",
   "execution_count": null,
   "id": "86eac72a",
   "metadata": {},
   "outputs": [],
   "source": []
  },
  {
   "cell_type": "code",
   "execution_count": 129,
   "id": "f123dbf7",
   "metadata": {},
   "outputs": [
    {
     "name": "stdout",
     "output_type": "stream",
     "text": [
      "size: 2\n",
      "nr. elements: 4\n",
      "\n",
      "\n",
      "ethiket: c_0\n",
      "labels: ['XI']\n",
      "coef: [(1+0j)]\n",
      "matrix: \n",
      " [[0.+0.j 0.+0.j 1.+0.j 0.+0.j]\n",
      " [0.+0.j 0.+0.j 0.+0.j 1.+0.j]\n",
      " [1.+0.j 0.+0.j 0.+0.j 0.+0.j]\n",
      " [0.+0.j 1.+0.j 0.+0.j 0.+0.j]]\n",
      "#################################################\n",
      "ethiket: c_1\n",
      "labels: ['YI']\n",
      "coef: [(1+0j)]\n",
      "matrix: \n",
      " [[0.+0.j 0.+0.j 0.-1.j 0.-0.j]\n",
      " [0.+0.j 0.+0.j 0.-0.j 0.-1.j]\n",
      " [0.+1.j 0.+0.j 0.+0.j 0.+0.j]\n",
      " [0.+0.j 0.+1.j 0.+0.j 0.+0.j]]\n",
      "#################################################\n",
      "ethiket: c_2\n",
      "labels: ['ZX']\n",
      "coef: [(1+0j)]\n",
      "matrix: \n",
      " [[ 0.+0.j  1.+0.j  0.+0.j  0.+0.j]\n",
      " [ 1.+0.j  0.+0.j  0.+0.j  0.+0.j]\n",
      " [ 0.+0.j  0.+0.j -0.+0.j -1.+0.j]\n",
      " [ 0.+0.j  0.+0.j -1.+0.j -0.+0.j]]\n",
      "#################################################\n",
      "ethiket: c_3\n",
      "labels: ['ZY']\n",
      "coef: [(1+0j)]\n",
      "matrix: \n",
      " [[ 0.+0.j  0.-1.j  0.+0.j  0.-0.j]\n",
      " [ 0.+1.j  0.+0.j  0.+0.j  0.+0.j]\n",
      " [ 0.+0.j  0.-0.j -0.+0.j  0.+1.j]\n",
      " [ 0.+0.j  0.+0.j -0.-1.j -0.+0.j]]\n",
      "#################################################\n"
     ]
    }
   ],
   "source": [
    "# Setup\n",
    "\n",
    "#initial number of qubits\n",
    "nr_q=2 \n",
    "\n",
    "#2n hermitian operators on n-qubits JW  \n",
    "c_op=COp(nr_q)\n",
    "\n",
    "c_op.info()"
   ]
  },
  {
   "cell_type": "markdown",
   "id": "7f4fd405",
   "metadata": {},
   "source": [
    "## Initiale state "
   ]
  },
  {
   "cell_type": "code",
   "execution_count": 130,
   "id": "77875540",
   "metadata": {},
   "outputs": [],
   "source": [
    "def compress_denisty(dens,op):\n",
    "    '''\n",
    "    1/nr_q[1-iC(dens)]\n",
    "    '''\n",
    "    nrq=int(np.log2(len(dens)))\n",
    "    ide=np.identity(2*nrq,dtype=np.complex128)\n",
    "    Co=corelation(dens,op)\n",
    "    for i in range(len(Co)):\n",
    "        for j in range(len(Co)):\n",
    "            Co[i][j]=1j*(Co[i][j])\n",
    "    return (1/(2*nrq))*(ide+Co)"
   ]
  },
  {
   "cell_type": "code",
   "execution_count": 131,
   "id": "edb0a572",
   "metadata": {},
   "outputs": [
    {
     "name": "stdout",
     "output_type": "stream",
     "text": [
      "Initial state:\n",
      "Iniitial density:\n",
      " [[1. 0. 0. 0.]\n",
      " [0. 0. 0. 0.]\n",
      " [0. 0. 0. 0.]\n",
      " [0. 0. 0. 0.]]\n"
     ]
    }
   ],
   "source": [
    "nr_e=0\n",
    "\n",
    "# intitial state can be : |0000> , |0001>,|0011>,|0111>,|1111> nr of ones =nr_e\n",
    "initial_state=init_xo(nr_q,nr_e)\n",
    "\n",
    "print('Initial state:')\n",
    "\n",
    "print('Iniitial density:\\n',initial_state.density)"
   ]
  },
  {
   "cell_type": "code",
   "execution_count": 132,
   "id": "f023282b",
   "metadata": {},
   "outputs": [
    {
     "name": "stdout",
     "output_type": "stream",
     "text": [
      "Corelation Matrix:\n",
      "IY:1j\n",
      "[[0j, (1+0j), 0j, 0j], [(-1+0j), 0j, 0j, 0j], [0j, 0j, 0j, (1+0j)], [0j, 0j, (-1+0j), 0j]]\n",
      "\n",
      "Compres matrix:\n",
      "II:(0.25+0j)\n",
      "IY:(0.25+0j)\n",
      "[[0.25+0.j   0.  -0.25j 0.  +0.j   0.  +0.j  ]\n",
      " [0.  +0.25j 0.25+0.j   0.  +0.j   0.  +0.j  ]\n",
      " [0.  +0.j   0.  +0.j   0.25+0.j   0.  -0.25j]\n",
      " [0.  +0.j   0.  +0.j   0.  +0.25j 0.25+0.j  ]]\n"
     ]
    }
   ],
   "source": [
    "compres_density_mixt=compress_denisty(initial_state.density,c_op)\n",
    "S_corelation=corelation(init_xo(nr_q,2).density, c_op)\n",
    "\n",
    "\n",
    "\n",
    "print('Corelation Matrix:')\n",
    "print_paili_decompose(S_corelation)\n",
    "print(S_corelation)\n",
    "\n",
    "print()\n",
    "print('Compres matrix:')\n",
    "print_paili_decompose(compres_density_mixt)\n",
    "print(compres_density_mixt)"
   ]
  },
  {
   "cell_type": "markdown",
   "id": "3a4f7842",
   "metadata": {},
   "source": [
    "### So far, I think that I did the right thing."
   ]
  },
  {
   "cell_type": "code",
   "execution_count": null,
   "id": "821acabc",
   "metadata": {},
   "outputs": [],
   "source": []
  },
  {
   "cell_type": "markdown",
   "id": "0bf3a125",
   "metadata": {},
   "source": [
    "## Observable:"
   ]
  },
  {
   "cell_type": "code",
   "execution_count": 133,
   "id": "4726a6bd",
   "metadata": {},
   "outputs": [],
   "source": [
    "class obs_c():\n",
    "    def __init__(self,a_mat,c_op):\n",
    "        self.a_mat=a_mat\n",
    "        self.c_op=c_op\n",
    "    \n",
    "    def matrix(self):\n",
    "        s=np.zeros((2**c_op.size,2**c_op.size))\n",
    "        for j in range(len(self.a_mat)):\n",
    "            for k in range(len(self.a_mat)):\n",
    "                if (self.a_mat[j][k]!=0):\n",
    "                    s=s+self.a_mat[j][k]*np.matmul(c_op.elements[j],c_op.elements[k])\n",
    "        return 1j/2*s"
   ]
  },
  {
   "cell_type": "code",
   "execution_count": 134,
   "id": "aa1887b2",
   "metadata": {},
   "outputs": [
    {
     "name": "stdout",
     "output_type": "stream",
     "text": [
      "Initial observable:\n",
      " [[-1.+0.j  0.+0.j  0.+0.j  0.+0.j]\n",
      " [ 0.+0.j  1.+0.j  0.+0.j  0.+0.j]\n",
      " [ 0.+0.j  0.+0.j -1.+0.j  0.+0.j]\n",
      " [ 0.+0.j  0.+0.j  0.+0.j  1.+0.j]]\n",
      "Initial observable decompose:\n",
      "\n",
      "IZ:(-1+0j)\n"
     ]
    }
   ],
   "source": [
    "a_mat= np.zeros((2*nr_q,2*nr_q))\n",
    "a_mat[-1][-2]=-1.0\n",
    "a_mat[-2][-1]=1.0\n",
    "\n",
    "\n",
    "A_obs=obs_c(a_mat,c_op)\n",
    "\n",
    "print(\"Initial observable:\\n\",A_obs.matrix())\n",
    "print(\"Initial observable decompose:\\n\")\n",
    "print_paili_decompose(A_obs.matrix())\n",
    "h,h_label=pauli_decompose(A_obs.matrix())"
   ]
  },
  {
   "cell_type": "code",
   "execution_count": 135,
   "id": "6da1b051",
   "metadata": {},
   "outputs": [],
   "source": [
    "def dec_vec(nr,nrq):\n",
    "    r=np.zeros(2*nrq) \n",
    "    r[nr]=1\n",
    "    return r\n",
    "\n",
    "#A=1j/2(\\sum_0^(2n-1)a_{j,k}c_jc_k)\n",
    "\n",
    "#1.85 ->Did I code the formula correctly?\n",
    "def compress_obs(obs):\n",
    "    s=np.zeros((len(obs.c_op.elements),len(obs.c_op.elements)))\n",
    "    for j in range(len(obs.a_mat)):\n",
    "        for k in range(len(obs.a_mat)):\n",
    "            if(j!=k):\n",
    "                s=s+obs.a_mat[j][k]*np.outer(dec_vec(j,obs.c_op.size),dec_vec(k,obs.c_op.size))\n",
    "    return 1j/2*s"
   ]
  },
  {
   "cell_type": "code",
   "execution_count": 136,
   "id": "509f85c3",
   "metadata": {},
   "outputs": [
    {
     "name": "stdout",
     "output_type": "stream",
     "text": [
      "Compress observable:\n",
      " [[ 0.+0.j   0.+0.j   0.+0.j   0.+0.j ]\n",
      " [ 0.+0.j   0.+0.j   0.+0.j   0.+0.j ]\n",
      " [ 0.+0.j   0.+0.j   0.+0.j   0.+0.5j]\n",
      " [ 0.+0.j   0.+0.j  -0.-0.5j  0.+0.j ]]\n",
      "Compress observable decompose:\n",
      "\n",
      "IY:(-0.25+0j)\n",
      "ZY:(0.25+0j)\n"
     ]
    }
   ],
   "source": [
    "A_compress=compress_obs(A_obs)\n",
    "\n",
    "print(\"Compress observable:\\n\",A_compress)\n",
    "print(\"Compress observable decompose:\\n\")\n",
    "print_paili_decompose(A_compress)"
   ]
  },
  {
   "cell_type": "markdown",
   "id": "78c5f4ce",
   "metadata": {},
   "source": [
    "### 1.85 ->Did I code the 1.85 formula correctly?"
   ]
  },
  {
   "cell_type": "code",
   "execution_count": null,
   "id": "37b40047",
   "metadata": {},
   "outputs": [],
   "source": []
  },
  {
   "cell_type": "markdown",
   "id": "d6729d13",
   "metadata": {},
   "source": [
    "## Gatas Compresion"
   ]
  },
  {
   "cell_type": "markdown",
   "id": "677f422a",
   "metadata": {},
   "source": [
    "->gate=e^{iwH} where H=i/2(\\sum_{i,j}a_{ij}c_ic_j) a_{i,j} i!=j are rel  and a_{i,j}=-1a_{j,i}"
   ]
  },
  {
   "cell_type": "code",
   "execution_count": 137,
   "id": "2309558b",
   "metadata": {},
   "outputs": [],
   "source": [
    "# Derivation of matrix RJ\n",
    "from qmatches.gates import GZB"
   ]
  },
  {
   "cell_type": "code",
   "execution_count": 138,
   "id": "4518c7de",
   "metadata": {},
   "outputs": [
    {
     "data": {
      "text/plain": [
       "array([[ 1.        ,  0.        ,  0.        ,  0.        ],\n",
       "       [ 0.        , -0.43388374,  0.90096887,  0.        ],\n",
       "       [ 0.        ,  0.90096887,  0.43388374,  0.        ],\n",
       "       [ 0.        ,  0.        ,  0.        , -1.        ]])"
      ]
     },
     "execution_count": 138,
     "metadata": {},
     "output_type": "execute_result"
    }
   ],
   "source": [
    "theta=np.pi/7\n",
    "gate=GZB(theta)\n",
    "gate.mat"
   ]
  },
  {
   "cell_type": "code",
   "execution_count": null,
   "id": "14ca52fc",
   "metadata": {},
   "outputs": [],
   "source": []
  },
  {
   "cell_type": "code",
   "execution_count": 139,
   "id": "0ab56026",
   "metadata": {},
   "outputs": [
    {
     "data": {
      "text/plain": [
       "array([[ 1.        +0.j,  0.        +0.j,  0.        +0.j,\n",
       "         0.        +0.j],\n",
       "       [ 0.        +0.j, -0.90096887+0.j,  0.43388374+0.j,\n",
       "         0.        +0.j],\n",
       "       [ 0.        +0.j,  0.43388374+0.j,  0.90096887+0.j,\n",
       "         0.        +0.j],\n",
       "       [ 0.        +0.j,  0.        +0.j,  0.        +0.j,\n",
       "        -1.        +0.j]])"
      ]
     },
     "execution_count": 139,
     "metadata": {},
     "output_type": "execute_result"
    }
   ],
   "source": [
    "C=c_op.elements\n",
    "a=theta\n",
    "k_1=0\n",
    "k_2=1\n",
    "\n",
    "\n",
    "H=1j*((1-np.cos(-a))/4*(np.matmul( C[2*k_1+1],C[2*k_1])-np.matmul(  C[2*k_1],    C[2*k_1+1]))\n",
    "      +np.sin(a)/4*(np.matmul(     C[2*k_2],  C[2*k_1+1])-np.matmul(C[2*k_1+1],  C[2*k_2]))\n",
    "      +(np.cos(-a)+1)/4*(np.matmul(C[2*k_2+1],C[2*k_2])-np.matmul(  C[2*k_2],    C[2*k_2+1]))\n",
    "      -np.sin(a)/4*(np.matmul(     C[2*k_2+1],C[2*k_1])-np.matmul(  C[2*k_1],    C[2*k_2+1])))\n",
    "\n",
    "H"
   ]
  },
  {
   "cell_type": "code",
   "execution_count": null,
   "id": "bf93edb2",
   "metadata": {},
   "outputs": [],
   "source": []
  },
  {
   "cell_type": "markdown",
   "id": "da2b1575",
   "metadata": {},
   "source": [
    "The problem here is that wrote thr GZB matrix directly as a sum of c_op elements.\n",
    "Do you know how I could find out H's value the right way? Or maybe is a trick  to find out Rj directly?"
   ]
  },
  {
   "cell_type": "code",
   "execution_count": 147,
   "id": "01530cad",
   "metadata": {},
   "outputs": [
    {
     "data": {
      "text/plain": [
       "array([[ 0.45593813+0.j,  0.        +0.j,  0.        +0.j,\n",
       "         0.        +0.j],\n",
       "       [ 0.        +0.j,  2.10725458+0.j, -0.3769022 +0.j,\n",
       "         0.        +0.j],\n",
       "       [ 0.        +0.j, -0.3769022 +0.j,  0.5419636 +0.j,\n",
       "         0.        +0.j],\n",
       "       [ 0.        +0.j,  0.        +0.j,  0.        +0.j,\n",
       "         2.19328005+0.j]])"
      ]
     },
     "execution_count": 147,
     "metadata": {},
     "output_type": "execute_result"
    }
   ],
   "source": [
    "w_i=np.pi/2\n",
    "U_i=expm(-0.5*w_i*(H))\n",
    "U_i"
   ]
  },
  {
   "cell_type": "code",
   "execution_count": 127,
   "id": "a2f399f1",
   "metadata": {},
   "outputs": [],
   "source": []
  },
  {
   "cell_type": "code",
   "execution_count": null,
   "id": "e7466257",
   "metadata": {},
   "outputs": [],
   "source": []
  }
 ],
 "metadata": {
  "kernelspec": {
   "display_name": "Python 3",
   "language": "python",
   "name": "python3"
  },
  "language_info": {
   "codemirror_mode": {
    "name": "ipython",
    "version": 3
   },
   "file_extension": ".py",
   "mimetype": "text/x-python",
   "name": "python",
   "nbconvert_exporter": "python",
   "pygments_lexer": "ipython3",
   "version": "3.7.10"
  }
 },
 "nbformat": 4,
 "nbformat_minor": 5
}
