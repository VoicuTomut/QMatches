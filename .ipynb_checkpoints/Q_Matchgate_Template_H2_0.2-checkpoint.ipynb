{
 "cells": [
  {
   "cell_type": "code",
   "execution_count": 1,
   "id": "special-armenia",
   "metadata": {},
   "outputs": [
    {
     "name": "stderr",
     "output_type": "stream",
     "text": [
      "/Users/voicutu/opt/anaconda3/envs/QMatches/lib/python3.7/site-packages/qiskit/chemistry/__init__.py:170: DeprecationWarning: The package qiskit.chemistry is deprecated. It was moved/refactored to qiskit_nature (pip install qiskit-nature). For more information see <https://github.com/Qiskit/qiskit-aqua/blob/master/README.md#migration-guide>\n",
      "  warn_package('chemistry', 'qiskit_nature', 'qiskit-nature')\n"
     ]
    }
   ],
   "source": [
    "import  numpy as np\n",
    "import matplotlib.pyplot as plt\n",
    "\n",
    "from qiskit import BasicAer, Aer, IBMQ\n",
    "from qiskit import QuantumRegister ,ClassicalRegister,QuantumCircuit\n",
    "from qiskit.circuit import ParameterVector\n",
    "from qiskit.aqua.operators import I, X, Y, Z\n",
    "\n",
    "from qiskit.aqua.algorithms import VQE, NumPyEigensolver\n",
    "from qiskit.aqua.components.optimizers import COBYLA\n",
    "from qiskit.aqua.components.optimizers import SPSA\n",
    "from qiskit.aqua import QuantumInstance\n",
    "\n",
    "from qiskit.chemistry import FermionicOperator\n",
    "from qiskit.chemistry.drivers import PySCFDriver, UnitsType\n",
    "\n",
    "from qiskit.transpiler import PassManager\n",
    "from qiskit.transpiler.passes import Unroller"
   ]
  },
  {
   "cell_type": "code",
   "execution_count": 2,
   "id": "5a3f0557",
   "metadata": {},
   "outputs": [],
   "source": [
    "from qmatches.gates import GZB\n",
    "from qmatches.ansatz import gzb_ansatz_cell"
   ]
  },
  {
   "cell_type": "code",
   "execution_count": 3,
   "id": "systematic-advisory",
   "metadata": {},
   "outputs": [],
   "source": [
    "#Exact solver for reference:\n",
    "def Exact_solver(qubitOp):\n",
    "    ex = NumPyEigensolver(qubitOp)\n",
    "    result = ex.run()\n",
    "    ref = result['eigenvalues']\n",
    "    return np.real(ref)"
   ]
  },
  {
   "cell_type": "code",
   "execution_count": 4,
   "id": "intended-titanium",
   "metadata": {},
   "outputs": [],
   "source": [
    "def var_circ_qiskit(nr_o,nr_e,params):\n",
    "    \n",
    "    circ = QuantumCircuit(nr_o)\n",
    "    for i in range(nr_e):\n",
    "        circ.x(i)\n",
    "    circ=gzb_ansatz_cell(circ,nr_o, nr_e,thetas=params,hidden=False)\n",
    "    return circ"
   ]
  },
  {
   "cell_type": "code",
   "execution_count": 5,
   "id": "split-extra",
   "metadata": {},
   "outputs": [
    {
     "name": "stdout",
     "output_type": "stream",
     "text": [
      "HF energy: -1.3194643767935124\n",
      "# nr. of electrons: 2\n",
      "# nr. of spin orbitals: 4\n"
     ]
    },
    {
     "name": "stderr",
     "output_type": "stream",
     "text": [
      "/Users/voicutu/opt/anaconda3/envs/QMatches/lib/python3.7/site-packages/qiskit/chemistry/fermionic_operator.py:386: DeprecationWarning: The package qiskit.aqua.operators is deprecated. It was moved/refactored to qiskit.opflow (pip install qiskit-terra). For more information see <https://github.com/Qiskit/qiskit-aqua/blob/master/README.md#migration-guide>\n",
      "  pauli_list = WeightedPauliOperator(paulis=[])\n",
      "/Users/voicutu/opt/anaconda3/envs/QMatches/lib/python3.7/site-packages/qiskit/chemistry/fermionic_operator.py:394: DeprecationWarning: The variable qiskit.aqua.aqua_globals is deprecated. It was moved/refactored to qiskit.utils.algorithm_globals (pip install qiskit-terra). For more information see <https://github.com/Qiskit/qiskit-aqua/blob/master/README.md#migration-guide>\n",
      "  task_args=(threshold,), num_processes=aqua_globals.num_processes)\n"
     ]
    },
    {
     "name": "stdout",
     "output_type": "stream",
     "text": [
      "Representation: paulis, qubits: 4, size: 15\n",
      "IIII\t(-0.8517840380466506+0j)\n",
      "IIIZ\t(0.10053557435398455+0j)\n",
      "IIZI\t(-0.049032364414860446+0j)\n",
      "IZII\t(0.10053557435398452+0j)\n",
      "ZIII\t(-0.04903236441486046+0j)\n",
      "IIZZ\t(0.08678749878785741+0j)\n",
      "IZIZ\t(0.14120468151365045+0j)\n",
      "XXYY\t(0.05575552226867875+0j)\n",
      "YYYY\t(0.05575552226867875+0j)\n",
      "XXXX\t(0.05575552226867875+0j)\n",
      "YYXX\t(0.05575552226867875+0j)\n",
      "ZIIZ\t(0.14254302105653616+0j)\n",
      "IZZI\t(0.14254302105653616+0j)\n",
      "ZIZI\t(0.14891189696596438+0j)\n",
      "ZZII\t(0.08678749878785741+0j)\n",
      "\n",
      "[0. 0. 0. 0.]\n"
     ]
    }
   ],
   "source": [
    "# Hidrogen (H_2)\n",
    "\n",
    "basis='sto3g'\n",
    "inter_dist=1.4\n",
    "# Molecule\n",
    "atoms = 'H .0 .0 .0; H .0 .0 '+str(inter_dist)\n",
    "driver = PySCFDriver(atoms, unit=UnitsType.ANGSTROM, charge=0, spin=0, basis=basis,max_memory=None)\n",
    "\n",
    "#integral h_{lm} , h_{lmpq}\n",
    "molecule = driver.run()\n",
    "h1 = molecule.one_body_integrals\n",
    "h2 = molecule.two_body_integrals\n",
    "nuclear_repulsion_energy = molecule.nuclear_repulsion_energy\n",
    "\n",
    "num_particles = molecule.num_alpha + molecule.num_beta\n",
    "num_spin_orbitals = molecule.num_orbitals * 2\n",
    "print(\"HF energy: {}\".format(molecule.hf_energy - molecule.nuclear_repulsion_energy))\n",
    "print(\"# nr. of electrons: {}\".format(num_particles))\n",
    "print(\"# nr. of spin orbitals: {}\".format(num_spin_orbitals))\n",
    "#print('# one elctron integral:\\n',h1)\n",
    "#print('# two elctron integral:\\n',h2)\n",
    "\n",
    "ferOp = FermionicOperator(h1=h1, h2=h2)\n",
    "qubitOp = ferOp.mapping(map_type='jordan_wigner')\n",
    "print(qubitOp)\n",
    "print(qubitOp.print_details())\n",
    "\n",
    "weight=[]\n",
    "pauli=[]\n",
    "for w,i in qubitOp._paulis:\n",
    "    weight.append(w)\n",
    "    pauli.append(i.to_label())\n",
    "    \n",
    "nr_o=num_spin_orbitals\n",
    "nr_e=num_particles\n",
    "nr_par=(nr_o-nr_e)*nr_e\n",
    "theta=np.zeros(nr_par)\n",
    "print(theta)"
   ]
  },
  {
   "cell_type": "code",
   "execution_count": 6,
   "id": "pharmaceutical-acrylic",
   "metadata": {},
   "outputs": [
    {
     "data": {
      "image/png": "[encoded data removed]",
      "text/plain": [
       "<Figure size 1049.8x264.88 with 1 Axes>"
      ]
     },
     "execution_count": 6,
     "metadata": {},
     "output_type": "execute_result"
    }
   ],
   "source": [
    "circ=var_circ_qiskit(nr_o,nr_e,params = ParameterVector('theta',length=nr_par))                  \n",
    "circ.draw('mpl')"
   ]
  },
  {
   "cell_type": "code",
   "execution_count": 7,
   "id": "e6000dd1",
   "metadata": {},
   "outputs": [],
   "source": [
    "backend = BasicAer.get_backend('qasm_simulator')"
   ]
  },
  {
   "cell_type": "code",
   "execution_count": 8,
   "id": "previous-savage",
   "metadata": {},
   "outputs": [],
   "source": [
    "def store_intermediate_result(eval_count, parameters, mean, std):\n",
    "            counts.append(eval_count)\n",
    "            values.append(mean)\n",
    "            params.append(parameters)\n",
    "            deviation.append(std)"
   ]
  },
  {
   "cell_type": "code",
   "execution_count": 9,
   "id": "robust-hands",
   "metadata": {},
   "outputs": [
    {
     "name": "stderr",
     "output_type": "stream",
     "text": [
      "/Users/voicutu/opt/anaconda3/envs/QMatches/lib/python3.7/site-packages/qiskit/aqua/components/optimizers/optimizer.py:50: DeprecationWarning: The package qiskit.aqua.components.optimizers is deprecated. It was moved/refactored to qiskit.algorithms.optimizers (pip install qiskit-terra). For more information see <https://github.com/Qiskit/qiskit-aqua/blob/master/README.md#migration-guide>\n",
      "  'qiskit.algorithms.optimizers', 'qiskit-terra')\n"
     ]
    }
   ],
   "source": [
    "seed= 1257\n",
    "shots=1000\n",
    "optim = COBYLA(maxiter=1000)"
   ]
  },
  {
   "cell_type": "code",
   "execution_count": 10,
   "id": "frank-airplane",
   "metadata": {},
   "outputs": [
    {
     "name": "stderr",
     "output_type": "stream",
     "text": [
      "/Users/voicutu/opt/anaconda3/envs/QMatches/lib/python3.7/site-packages/qiskit/aqua/algorithms/vq_algorithm.py:72: DeprecationWarning: The class qiskit.aqua.algorithms.VQAlgorithm is deprecated. It was moved/refactored to qiskit.algorithms.VariationalAlgorithm (pip install qiskit-terra). For more information see <https://github.com/Qiskit/qiskit-aqua/blob/master/README.md#migration-guide>\n",
      "  'qiskit-terra')\n"
     ]
    }
   ],
   "source": [
    "vqe= VQE(operator=qubitOp, var_form=circ, optimizer=optim,callback=store_intermediate_result)"
   ]
  },
  {
   "cell_type": "code",
   "execution_count": 11,
   "id": "private-overview",
   "metadata": {},
   "outputs": [
    {
     "name": "stderr",
     "output_type": "stream",
     "text": [
      "/Users/voicutu/opt/anaconda3/envs/QMatches/lib/python3.7/site-packages/qiskit/aqua/quantum_instance.py:137: DeprecationWarning: The class qiskit.aqua.QuantumInstance is deprecated. It was moved/refactored to qiskit.utils.QuantumInstance (pip install qiskit-terra). For more information see <https://github.com/Qiskit/qiskit-aqua/blob/master/README.md#migration-guide>\n",
      "  'qiskit-terra')\n"
     ]
    }
   ],
   "source": [
    "# run quantum algorithm with shots\n",
    "counts=[]\n",
    "values=[]\n",
    "params=[]\n",
    "deviation=[]\n",
    "\n",
    "\n",
    "quantum_instance = QuantumInstance(backend, shots=shots, seed_simulator=seed, seed_transpiler=seed)\n",
    "result_shots = vqe.run(quantum_instance)"
   ]
  },
  {
   "cell_type": "code",
   "execution_count": 12,
   "id": "blank-jenny",
   "metadata": {},
   "outputs": [
    {
     "name": "stdout",
     "output_type": "stream",
     "text": [
      "VQE result: -1.346346575021432\n",
      "Exact solver: -1.3934519713739584\n"
     ]
    },
    {
     "name": "stderr",
     "output_type": "stream",
     "text": [
      "/Users/voicutu/opt/anaconda3/envs/QMatches/lib/python3.7/site-packages/qiskit/aqua/algorithms/eigen_solvers/eigen_solver.py:38: DeprecationWarning: The package qiskit.aqua.algorithms.eigen_solvers is deprecated. It was moved/refactored to qiskit.algorithms.eigen_solvers (pip install qiskit-terra). For more information see <https://github.com/Qiskit/qiskit-aqua/blob/master/README.md#migration-guide>\n",
      "  'qiskit-terra')\n"
     ]
    },
    {
     "data": {
      "image/png": "[encoded data removed]",
      "text/plain": [
       "<Figure size 432x288 with 1 Axes>"
      ]
     },
     "metadata": {
      "needs_background": "light"
     },
     "output_type": "display_data"
    }
   ],
   "source": [
    "exact=Exact_solver(qubitOp)\n",
    "print(\"VQE result:\",values[-1])\n",
    "print(\"Exact solver:\",exact[0])\n",
    "\n",
    "plt.plot(values)\n",
    "\n",
    "x=np.linspace(0,len(values))\n",
    "y=[exact for i in range(len(x))]\n",
    "plt.plot(x, y, '-r', label='Ideal_value')\n",
    "\n",
    "plt.show()"
   ]
  },
  {
   "cell_type": "code",
   "execution_count": null,
   "id": "typical-april",
   "metadata": {},
   "outputs": [],
   "source": []
  }
 ],
 "metadata": {
  "kernelspec": {
   "display_name": "Python 3",
   "language": "python",
   "name": "python3"
  },
  "language_info": {
   "codemirror_mode": {
    "name": "ipython",
    "version": 3
   },
   "file_extension": ".py",
   "mimetype": "text/x-python",
   "name": "python",
   "nbconvert_exporter": "python",
   "pygments_lexer": "ipython3",
   "version": "3.7.10"
  }
 },
 "nbformat": 4,
 "nbformat_minor": 5
}
