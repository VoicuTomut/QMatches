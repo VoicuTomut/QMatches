{
 "cells": [
  {
   "cell_type": "code",
   "execution_count": 1,
   "id": "5ff5bfb1",
   "metadata": {},
   "outputs": [],
   "source": [
    "import  numpy as np\n",
    "\n",
    "from qiskit import BasicAer, Aer, IBMQ\n",
    "from qiskit import QuantumRegister ,ClassicalRegister,QuantumCircuit"
   ]
  },
  {
   "cell_type": "code",
   "execution_count": null,
   "id": "5147bc62",
   "metadata": {},
   "outputs": [],
   "source": []
  },
  {
   "cell_type": "code",
   "execution_count": null,
   "id": "a8bf5920",
   "metadata": {},
   "outputs": [],
   "source": [
    "# initaila state \n",
    "\n",
    "class init_xo():\n",
    "    #class for initalial states of the form: 000, 100, 110, 111\n",
    "    def __init__(self,nrq,x_qubit):\n",
    "        #nrq-total number of qbits \n",
    "        #x_qubit-nr of qubits in state 1\n",
    "        self.nrq=nrq\n",
    "        self.x_qubit=x_qubit\n",
    "        self.dens=self.densit(nrq,x_qubit)\n",
    "        \n",
    "    def densit(self,nrq,x_qubit):\n",
    "        dens=np.zeros((2**nrq,2**nrq))\n",
    "        token=0\n",
    "        for i in range (x_qubit):\n",
    "            token=token+2**i\n",
    "        dens[token][token]=1\n",
    "        return dens"
   ]
  },
  {
   "cell_type": "code",
   "execution_count": null,
   "id": "c8199de9",
   "metadata": {},
   "outputs": [],
   "source": [
    "init_xo()"
   ]
  }
 ],
 "metadata": {
  "kernelspec": {
   "display_name": "Python 3",
   "language": "python",
   "name": "python3"
  },
  "language_info": {
   "codemirror_mode": {
    "name": "ipython",
    "version": 3
   },
   "file_extension": ".py",
   "mimetype": "text/x-python",
   "name": "python",
   "nbconvert_exporter": "python",
   "pygments_lexer": "ipython3",
   "version": "3.7.10"
  }
 },
 "nbformat": 4,
 "nbformat_minor": 5
}
