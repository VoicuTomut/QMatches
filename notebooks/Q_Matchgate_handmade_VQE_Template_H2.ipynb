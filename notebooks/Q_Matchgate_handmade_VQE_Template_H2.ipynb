{
 "cells": [
  {
   "cell_type": "code",
   "execution_count": 1,
   "metadata": {},
   "outputs": [],
   "source": [
    "import  numpy as np\n",
    "import matplotlib as plt\n"
   ]
  },
  {
   "cell_type": "code",
   "execution_count": 2,
   "metadata": {},
   "outputs": [
    {
     "name": "stderr",
     "output_type": "stream",
     "text": [
      "/Users/voicutu/opt/anaconda3/envs/newC/lib/python3.7/site-packages/pyscf/lib/misc.py:46: H5pyDeprecationWarning: Using default_file_mode other than 'r' is deprecated. Pass the mode to h5py.File() instead.\n",
      "  h5py.get_config().default_file_mode = 'a'\n"
     ]
    }
   ],
   "source": [
    "from qiskit import BasicAer, Aer, IBMQ\n",
    "from qiskit import QuantumRegister ,ClassicalRegister,QuantumCircuit\n",
    "from qiskit.circuit import ParameterVector\n",
    "from qiskit.aqua.operators import I, X, Y, Z\n",
    "\n",
    "from qiskit.aqua.algorithms import VQE, NumPyEigensolver\n",
    "from qiskit.aqua.components.optimizers import COBYLA\n",
    "\n",
    "from qiskit.chemistry import FermionicOperator\n",
    "from qiskit.chemistry.drivers import PySCFDriver, UnitsType\n",
    "\n",
    "from qiskit.transpiler import PassManager\n",
    "from qiskit.transpiler.passes import Unroller\n"
   ]
  },
  {
   "cell_type": "code",
   "execution_count": 3,
   "metadata": {},
   "outputs": [],
   "source": [
    "#jut a dirty trick\n",
    "from scipy.optimize import minimize\n",
    "from dirty_tools import decompose, expected"
   ]
  },
  {
   "cell_type": "code",
   "execution_count": 4,
   "metadata": {},
   "outputs": [],
   "source": [
    "#Exact solver for reference:\n",
    "def Exact_solver(qubitOp):\n",
    "    ex = NumPyEigensolver(qubitOp)\n",
    "    result = ex.run()\n",
    "    ref = result['eigenvalues']\n",
    "    return np.real(ref)[0]"
   ]
  },
  {
   "cell_type": "code",
   "execution_count": 5,
   "metadata": {},
   "outputs": [
    {
     "name": "stdout",
     "output_type": "stream",
     "text": [
      "HF energy: -1.3194643767935124\n",
      "# nr. of electrons: 2\n",
      "# nr. of spin orbitals: 4\n",
      "Representation: paulis, qubits: 4, size: 15\n",
      "IIII\t(-0.8517840380466506+0j)\n",
      "IIIZ\t(0.10053557435398455+0j)\n",
      "IIZI\t(-0.049032364414860446+0j)\n",
      "IZII\t(0.10053557435398452+0j)\n",
      "ZIII\t(-0.04903236441486046+0j)\n",
      "IIZZ\t(0.08678749878785741+0j)\n",
      "IZIZ\t(0.14120468151365045+0j)\n",
      "XXYY\t(0.05575552226867875+0j)\n",
      "YYYY\t(0.05575552226867875+0j)\n",
      "XXXX\t(0.05575552226867875+0j)\n",
      "YYXX\t(0.05575552226867875+0j)\n",
      "ZIIZ\t(0.14254302105653616+0j)\n",
      "IZZI\t(0.14254302105653616+0j)\n",
      "ZIZI\t(0.14891189696596438+0j)\n",
      "ZZII\t(0.08678749878785741+0j)\n",
      "\n"
     ]
    }
   ],
   "source": [
    "basis='sto3g'\n",
    "inter_dist=1.4\n",
    "# Molecule\n",
    "atoms = 'H .0 .0 .0; H .0 .0 '+str(inter_dist)\n",
    "driver = PySCFDriver(atoms, unit=UnitsType.ANGSTROM, charge=0, spin=0, basis=basis,max_memory=None)\n",
    "\n",
    "#integral h_{lm} , h_{lmpq}\n",
    "molecule = driver.run()\n",
    "h1 = molecule.one_body_integrals\n",
    "h2 = molecule.two_body_integrals\n",
    "nuclear_repulsion_energy = molecule.nuclear_repulsion_energy\n",
    "\n",
    "num_particles = molecule.num_alpha + molecule.num_beta\n",
    "num_spin_orbitals = molecule.num_orbitals * 2\n",
    "print(\"HF energy: {}\".format(molecule.hf_energy - molecule.nuclear_repulsion_energy))\n",
    "print(\"# nr. of electrons: {}\".format(num_particles))\n",
    "print(\"# nr. of spin orbitals: {}\".format(num_spin_orbitals))\n",
    "#print('# one elctron integral:\\n',h1)\n",
    "#print('# two elctron integral:\\n',h2)\n",
    "\n",
    "ferOp = FermionicOperator(h1=h1, h2=h2)\n",
    "qubitOp = ferOp.mapping(map_type='jordan_wigner')\n",
    "\n",
    "print(qubitOp)\n",
    "print(qubitOp.print_details())\n",
    "\n",
    "weight=[]\n",
    "pauli=[]\n",
    "for w,i in qubitOp._paulis:\n",
    "    weight.append(w)\n",
    "    pauli.append(i.to_label())\n",
    "    \n",
    "nr_o=num_spin_orbitals\n",
    "nr_e=num_particles\n",
    "nr_par=nr_par=(nr_o-nr_e)*nr_e"
   ]
  },
  {
   "cell_type": "code",
   "execution_count": 6,
   "metadata": {},
   "outputs": [],
   "source": [
    "def GZB(theta):\n",
    "    \n",
    "    gzb= QuantumCircuit(2,name='GZB('+str(theta)+')')\n",
    "    gzb.cx(0,1)\n",
    "    gzb.z(0)\n",
    "    gzb.cry((np.pi/2-theta)*2,1,0)\n",
    "    gzb.cx(0,1)\n",
    "    gate=gzb.to_gate()\n",
    "    return gate\n",
    "'''\n",
    "theta=7\n",
    "circ=QuantumCircuit(2)\n",
    "circ.append(GZB(7),[0,1])\n",
    "circ.draw('mpl')\n",
    "'''\n",
    "\n",
    "def ansatz_cell(qc,qo,nr_o, nr_e,thetas):\n",
    "    \n",
    "    #qo=QuantumRegister(nr_o,'qo')\n",
    "    #qc=QuantumCircuit(qo,name='ansatz_cell')\n",
    "    \n",
    "    it=iter(thetas)\n",
    "    start=nr_e-1\n",
    "    limit=nr_o\n",
    "    while start!=-1:\n",
    "        cq=start\n",
    "        tq=start+1\n",
    "        while tq<limit:\n",
    "            qc.append(GZB(next(it)),[cq,tq])\n",
    "            cq=cq+1\n",
    "            tq=tq+1\n",
    "\n",
    "        start=start-1\n",
    "        limit=limit-1\n",
    "    return qc \n"
   ]
  },
  {
   "cell_type": "code",
   "execution_count": 7,
   "metadata": {},
   "outputs": [
    {
     "data": {
      "text/plain": [
       "\"\\nnr_o=num_spin_orbitals\\nnr_e=num_particles\\nnr_par=(nr_o-nr_e)*nr_e\\ntheta=np.zeros(nr_par)\\nprint('params:',theta)\\n\\nqo=QuantumRegister(nr_o,'qo')\\nansatz = QuantumCircuit(qo)\\nansatz_cell(ansatz,qo,nr_o, nr_e,theta)\\nansatz.draw('mpl')\\n\\ncirc=var_circ(nr_o,nr_e,theta)\\n\\nprint('exp_val:',value(weight,pauli,circ,backend))\\n\\ncirc.draw('mpl')\\n\""
      ]
     },
     "execution_count": 7,
     "metadata": {},
     "output_type": "execute_result"
    }
   ],
   "source": [
    "def var_circ(nr_o,nr_e,theta):\n",
    "    qo=QuantumRegister(nr_o,'qo')\n",
    "    cb=ClassicalRegister(nr_o,'cl')\n",
    "    circ = QuantumCircuit(qo,cb)\n",
    "    for i in range(nr_e):\n",
    "        circ.x(i)\n",
    "    ansatz_cell(circ,qo,nr_o, nr_e,theta)\n",
    "    return circ\n",
    "\n",
    "# Caluclate final expected value as sum of h[i]<psi|h_obs|psi> where h_obs-> h_label[i].\n",
    "\n",
    "def value(h,h_label,circ,backend):\n",
    "    \n",
    "    val=0\n",
    "    for i in range(len(h)):\n",
    "        if h[i]!=0:\n",
    "            exp=expected(circ,h_label[i],shots=100000,backend=backend)\n",
    "            val=val+h[i]*exp\n",
    "            #print('exp for {} ={}'.format(h_label[i],exp))\n",
    "            \n",
    "    return (val)\n",
    "\n",
    "'''\n",
    "nr_o=num_spin_orbitals\n",
    "nr_e=num_particles\n",
    "nr_par=(nr_o-nr_e)*nr_e\n",
    "theta=np.zeros(nr_par)\n",
    "print('params:',theta)\n",
    "\n",
    "qo=QuantumRegister(nr_o,'qo')\n",
    "ansatz = QuantumCircuit(qo)\n",
    "ansatz_cell(ansatz,qo,nr_o, nr_e,theta)\n",
    "ansatz.draw('mpl')\n",
    "\n",
    "circ=var_circ(nr_o,nr_e,theta)\n",
    "\n",
    "print('exp_val:',value(weight,pauli,circ,backend))\n",
    "\n",
    "circ.draw('mpl')\n",
    "'''"
   ]
  },
  {
   "cell_type": "code",
   "execution_count": 8,
   "metadata": {},
   "outputs": [],
   "source": [
    "def store_intermediate_result(eval_count, result):\n",
    "            counts.append(eval_count)\n",
    "            results.append(mean)\n",
    "            \n",
    "            \n",
    "counts=[]\n",
    "results=[]"
   ]
  },
  {
   "cell_type": "code",
   "execution_count": 9,
   "metadata": {},
   "outputs": [],
   "source": [
    "def cost(theta,weight,pauli,nr_o,nr_e,backend):\n",
    "    circ=var_circ(nr_o,nr_e,theta)\n",
    "    return value(weight,pauli,circ,backend)\n",
    "\n",
    "def VQE(weight,pauli,nr_o,nr_e,backend):\n",
    "    \n",
    "    theta=np.zeros(nr_par)\n",
    "    optim=minimize(cost, \n",
    "                   theta,args=(weight,pauli,nr_o,nr_e,backend),\n",
    "                   method='COBYLA', \n",
    "                   options={'rhobeg': 1.0, 'maxiter': 2000, 'disp': True, 'catol': 0.0002},\n",
    "                   callback=True\n",
    "                  )\n",
    "    \n",
    "    circ=var_circ(nr_o,nr_e,optim.x)\n",
    "    eigval=value(weight,pauli,circ,backend)\n",
    "    \n",
    "    return eigval"
   ]
  },
  {
   "cell_type": "code",
   "execution_count": 10,
   "metadata": {},
   "outputs": [],
   "source": [
    "backend=Aer.get_backend('qasm_simulator')"
   ]
  },
  {
   "cell_type": "code",
   "execution_count": 11,
   "metadata": {},
   "outputs": [
    {
     "name": "stderr",
     "output_type": "stream",
     "text": [
      "/Users/voicutu/opt/anaconda3/envs/newC/lib/python3.7/site-packages/scipy/optimize/_minimize.py:545: RuntimeWarning: Method COBYLA does not support callback.\n",
      "  warn('Method %s does not support callback.' % method, RuntimeWarning)\n",
      "/Users/voicutu/opt/anaconda3/envs/newC/lib/python3.7/site-packages/scipy/optimize/cobyla.py:262: ComplexWarning: Casting complex values to real discards the imaginary part\n",
      "  dinfo=info)\n"
     ]
    }
   ],
   "source": [
    "VQEresult=np.real(VQE(weight,pauli,nr_o,nr_e,backend))"
   ]
  },
  {
   "cell_type": "code",
   "execution_count": 12,
   "metadata": {},
   "outputs": [
    {
     "name": "stdout",
     "output_type": "stream",
     "text": [
      "Result:  -1.3424332292758168\n",
      "Reference: -1.3934519713739584\n"
     ]
    }
   ],
   "source": [
    "print(\"Result: \",VQEresult)\n",
    "print(\"Reference:\",Exact_solver(qubitOp))"
   ]
  },
  {
   "cell_type": "code",
   "execution_count": null,
   "metadata": {},
   "outputs": [],
   "source": []
  }
 ],
 "metadata": {
  "kernelspec": {
   "display_name": "Python 3",
   "language": "python",
   "name": "python3"
  },
  "language_info": {
   "codemirror_mode": {
    "name": "ipython",
    "version": 3
   },
   "file_extension": ".py",
   "mimetype": "text/x-python",
   "name": "python",
   "nbconvert_exporter": "python",
   "pygments_lexer": "ipython3",
   "version": "3.7.10"
  }
 },
 "nbformat": 4,
 "nbformat_minor": 4
}
