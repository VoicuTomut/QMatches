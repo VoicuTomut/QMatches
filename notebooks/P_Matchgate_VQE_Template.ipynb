{
 "cells": [
  {
   "cell_type": "code",
   "execution_count": 1,
   "metadata": {
    "id": "W2ZS2TYeOq_D"
   },
   "outputs": [],
   "source": [
    "#Pennylane tutorial:https://pennylane.ai/qml/demos/tutorial_vqe.html"
   ]
  },
  {
   "cell_type": "code",
   "execution_count": 2,
   "metadata": {
    "id": "df-jatszO18x"
   },
   "outputs": [],
   "source": [
    "#!pip install pennylane-qchem\n",
    "#!pip install PennyLane"
   ]
  },
  {
   "cell_type": "code",
   "execution_count": 37,
   "metadata": {
    "id": "a4N6moTnSZhF"
   },
   "outputs": [],
   "source": [
    "import matplotlib.pyplot as plt"
   ]
  },
  {
   "cell_type": "code",
   "execution_count": 7,
   "metadata": {
    "id": "UvrypzvRPX1v"
   },
   "outputs": [],
   "source": [
    "import pennylane as qml\n",
    "from pennylane import qchem\n",
    "from pennylane import numpy as np"
   ]
  },
  {
   "cell_type": "code",
   "execution_count": 8,
   "metadata": {
    "id": "t4wzyt8RUwgx"
   },
   "outputs": [],
   "source": [
    "DATA_PATH='/content/drive/MyDrive/Projects/CQ/Data/'"
   ]
  },
  {
   "cell_type": "code",
   "execution_count": 18,
   "metadata": {
    "id": "pNkM2mP9Paf3"
   },
   "outputs": [],
   "source": [
    "geometry = 'h2.xyz'\n",
    "charge = 0\n",
    "multiplicity = 1\n",
    "basis_set = 'sto-3g'\n",
    "name = 'h2'\n",
    "nr_e=2"
   ]
  },
  {
   "cell_type": "code",
   "execution_count": 19,
   "metadata": {
    "colab": {
     "base_uri": "https://localhost:8080/"
    },
    "id": "RM93u7wEPmaU",
    "outputId": "85a2039e-9165-41b3-dfe9-3de6895fde72"
   },
   "outputs": [
    {
     "name": "stdout",
     "output_type": "stream",
     "text": [
      "Number of qubits =  4\n",
      "Hamiltonian is  (-0.05365019756279028) [I0]\n",
      "+ (0.1764299696762176) [Z0]\n",
      "+ (0.1764299696762176) [Z1]\n",
      "+ (-0.23874672913690942) [Z2]\n",
      "+ (-0.23874672913690942) [Z3]\n",
      "+ (0.1702161957058614) [Z0 Z1]\n",
      "+ (0.04485941594748865) [Y0 X1 X2 Y3]\n",
      "+ (-0.04485941594748865) [Y0 Y1 X2 X3]\n",
      "+ (-0.04485941594748865) [X0 X1 Y2 Y3]\n",
      "+ (0.04485941594748865) [X0 Y1 Y2 X3]\n",
      "+ (0.12247041940076897) [Z0 Z2]\n",
      "+ (0.16732983534825763) [Z0 Z3]\n",
      "+ (0.16732983534825763) [Z1 Z2]\n",
      "+ (0.12247041940076897) [Z1 Z3]\n",
      "+ (0.1759005512371066) [Z2 Z3]\n"
     ]
    }
   ],
   "source": [
    "h, qubits = qchem.molecular_hamiltonian(\n",
    "    name,\n",
    "    DATA_PATH+geometry,\n",
    "    charge=charge,\n",
    "    mult=multiplicity,\n",
    "    basis=basis_set,\n",
    "    active_electrons=nr_e,\n",
    "    active_orbitals=2,\n",
    "    mapping='jordan_wigner'\n",
    ")\n",
    "\n",
    "print('Number of qubits = ', qubits)\n",
    "print('Hamiltonian is ', h)"
   ]
  },
  {
   "cell_type": "code",
   "execution_count": 21,
   "metadata": {
    "id": "DpcDp3CHVxG-"
   },
   "outputs": [],
   "source": [
    "initial_state=[ 0 for i in range(qubits)]\n",
    "for i in range(nr_p):\n",
    "  initial_state[i]=1\n",
    "nr_o=qubits\n",
    "nr_par=(nr_o-nr_e)*nr_e\n",
    "dev = qml.device('default.qubit', wires=qubits)"
   ]
  },
  {
   "cell_type": "code",
   "execution_count": 44,
   "metadata": {
    "id": "gMXcDm0lWLE-"
   },
   "outputs": [],
   "source": [
    "def circuit(params, wires):\n",
    "  \n",
    "    qml.BasisState(np.array(initial_state, requires_grad=False), wires=wires)\n",
    "    \n",
    "\n",
    "    it=0\n",
    "    start=nr_p-1\n",
    "    limit=nr_o\n",
    "    while start!=-1:\n",
    "        cq=start\n",
    "        tq=start+1\n",
    "        while tq<limit:\n",
    "\n",
    "            qml.CNOT(wires=[cq,tq])\n",
    "            qml.PauliZ(tq)\n",
    "            qml.CRY(np.pi-2*params[it],wires=[tq,cq])\n",
    "            qml.CNOT(wires=[cq,tq])\n",
    "\n",
    "            it=it+1\n",
    "            cq=cq+1\n",
    "            tq=tq+1\n",
    "\n",
    "        start=start-1\n",
    "        limit=limit-1\n",
    "    "
   ]
  },
  {
   "cell_type": "code",
   "execution_count": 45,
   "metadata": {
    "id": "VMm8_MQeWaah"
   },
   "outputs": [],
   "source": [
    "cost_fn = qml.ExpvalCost(circuit, h, dev)"
   ]
  },
  {
   "cell_type": "code",
   "execution_count": 46,
   "metadata": {
    "colab": {
     "base_uri": "https://localhost:8080/"
    },
    "id": "nSR0c4HSWi2-",
    "outputId": "074e81f8-3a08-4021-84ea-66679b212fe6"
   },
   "outputs": [
    {
     "name": "stdout",
     "output_type": "stream",
     "text": [
      "[[5.54193389]\n",
      " [1.25713095]\n",
      " [3.07479606]\n",
      " [7.03997361]]\n"
     ]
    }
   ],
   "source": [
    "opt = qml.GradientDescentOptimizer(stepsize=0.4)\n",
    "np.random.seed(0)\n",
    "params = np.random.normal(0, np.pi, (nr_par, 1))\n",
    "\n",
    "print(params)"
   ]
  },
  {
   "cell_type": "code",
   "execution_count": 47,
   "metadata": {
    "colab": {
     "base_uri": "https://localhost:8080/"
    },
    "id": "KIzFrCwGWkV3",
    "outputId": "9f2df6fb-a8e0-417c-e531-850d27b72e52"
   },
   "outputs": [
    {
     "name": "stdout",
     "output_type": "stream",
     "text": [
      "Iteration = 0,  Energy = -0.70219626 Ha\n",
      "\n",
      "Final convergence parameter = 0.00000051 Ha\n",
      "Final value of the ground-state energy = -1.11748700 Ha\n",
      "Accuracy with respect to the FCI energy: 0.01870246 Ha (11.73584819 kcal/mol)\n",
      "\n",
      "Final circuit parameters = \n",
      " [[4.71291824]\n",
      " [1.46813925]\n",
      " [2.70343472]\n",
      " [7.85325516]]\n"
     ]
    }
   ],
   "source": [
    "costs=[]\n",
    "max_iterations = 400\n",
    "conv_tol = 1e-06\n",
    "\n",
    "\n",
    "for n in range(max_iterations):\n",
    "    params, prev_energy = opt.step_and_cost(cost_fn, params)\n",
    "    energy = cost_fn(params)\n",
    "    conv = np.abs(energy - prev_energy)\n",
    "    costs.append(energy)\n",
    "\n",
    "    if n % 20 == 0:\n",
    "        print('Iteration = {:},  Energy = {:.8f} Ha'.format(n, energy))\n",
    "\n",
    "    if conv <= conv_tol:\n",
    "        break\n",
    "\n",
    "print()\n",
    "print('Final convergence parameter = {:.8f} Ha'.format(conv))\n",
    "print('Final value of the ground-state energy = {:.8f} Ha'.format(energy))\n",
    "print('Accuracy with respect to the FCI energy: {:.8f} Ha ({:.8f} kcal/mol)'.format(\n",
    "    np.abs(energy - (-1.136189454088)), np.abs(energy - (-1.136189454088))*627.503\n",
    "    )\n",
    ")\n",
    "print()\n",
    "print('Final circuit parameters = \\n', params)"
   ]
  },
  {
   "cell_type": "code",
   "execution_count": 48,
   "metadata": {
    "colab": {
     "base_uri": "https://localhost:8080/",
     "height": 265
    },
    "id": "YjxlxtzGRsWa",
    "outputId": "c845e004-d702-4719-f967-75c6fe4ee85e"
   },
   "outputs": [
    {
     "data": {
      "image/png": "[encoded data removed]",
      "text/plain": [
       "<Figure size 432x288 with 1 Axes>"
      ]
     },
     "metadata": {
      "needs_background": "light",
      "tags": []
     },
     "output_type": "display_data"
    }
   ],
   "source": [
    "plt.figure()\n",
    "plt.plot(costs)\n",
    "plt.show()"
   ]
  },
  {
   "cell_type": "code",
   "execution_count": null,
   "metadata": {
    "id": "jv1ePiFQSp1y"
   },
   "outputs": [],
   "source": []
  }
 ],
 "metadata": {
  "colab": {
   "collapsed_sections": [],
   "name": "P_Matchgate_VQE_Template.ipynb",
   "provenance": []
  },
  "kernelspec": {
   "display_name": "Python 3",
   "language": "python",
   "name": "python3"
  },
  "language_info": {
   "codemirror_mode": {
    "name": "ipython",
    "version": 3
   },
   "file_extension": ".py",
   "mimetype": "text/x-python",
   "name": "python",
   "nbconvert_exporter": "python",
   "pygments_lexer": "ipython3",
   "version": "3.7.10"
  }
 },
 "nbformat": 4,
 "nbformat_minor": 1
}
