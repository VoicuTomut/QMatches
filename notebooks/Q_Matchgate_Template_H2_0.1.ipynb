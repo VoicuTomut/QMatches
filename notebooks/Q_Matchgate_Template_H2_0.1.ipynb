{
 "cells": [
  {
   "cell_type": "code",
   "execution_count": 145,
   "id": "welsh-dragon",
   "metadata": {},
   "outputs": [],
   "source": [
    "import  numpy as np\n",
    "import matplotlib.pyplot as plt\n",
    "\n",
    "from qiskit import BasicAer, Aer, IBMQ\n",
    "\n",
    "from qiskit.circuit import QuantumCircuit,QuantumRegister, ParameterVector\n",
    "from qiskit.aqua.algorithms import VQE,  NumPyEigensolver\n",
    "from qiskit.aqua.components.optimizers import COBYLA\n",
    "from qiskit.aqua.components.optimizers import SPSA\n",
    "from qiskit.aqua import QuantumInstance\n",
    "\n",
    "from qiskit.quantum_info.operators import Operator, Pauli\n",
    "\n",
    "\n",
    "from qiskit.chemistry import FermionicOperator\n",
    "from qiskit.chemistry.drivers import PySCFDriver, UnitsType"
   ]
  },
  {
   "cell_type": "code",
   "execution_count": 146,
   "id": "congressional-alias",
   "metadata": {},
   "outputs": [],
   "source": [
    "#Exact solver for reference:\n",
    "def Exact_solver(qubitOp):\n",
    "    ex = NumPyEigensolver(qubitOp)\n",
    "    result = ex.run()\n",
    "    ref = result['eigenvalues']\n",
    "    return np.real(ref)"
   ]
  },
  {
   "cell_type": "code",
   "execution_count": 147,
   "id": "failing-slovak",
   "metadata": {},
   "outputs": [],
   "source": [
    "backend = BasicAer.get_backend('qasm_simulator')"
   ]
  },
  {
   "cell_type": "code",
   "execution_count": 148,
   "id": "raising-wallpaper",
   "metadata": {},
   "outputs": [
    {
     "name": "stdout",
     "output_type": "stream",
     "text": [
      "HF energy: -1.3194643767935124\n",
      "# nr. of electrons: 2\n",
      "# nr. of spin orbitals: 4\n",
      "Representation: paulis, qubits: 4, size: 15\n",
      "IIII\t(-0.8517840380466506+0j)\n",
      "IIIZ\t(0.10053557435398455+0j)\n",
      "IIZI\t(-0.049032364414860446+0j)\n",
      "IZII\t(0.10053557435398452+0j)\n",
      "ZIII\t(-0.04903236441486046+0j)\n",
      "IIZZ\t(0.08678749878785741+0j)\n",
      "IZIZ\t(0.14120468151365045+0j)\n",
      "XXYY\t(0.05575552226867875+0j)\n",
      "YYYY\t(0.05575552226867875+0j)\n",
      "XXXX\t(0.05575552226867875+0j)\n",
      "YYXX\t(0.05575552226867875+0j)\n",
      "ZIIZ\t(0.14254302105653616+0j)\n",
      "IZZI\t(0.14254302105653616+0j)\n",
      "ZIZI\t(0.14891189696596438+0j)\n",
      "ZZII\t(0.08678749878785741+0j)\n",
      "\n"
     ]
    }
   ],
   "source": [
    "# Hidrogen (H_2)\n",
    "\n",
    "basis='sto3g'\n",
    "inter_dist=1.4\n",
    "# Molecule\n",
    "atoms = 'H .0 .0 .0; H .0 .0 '+str(inter_dist)\n",
    "driver = PySCFDriver(atoms, unit=UnitsType.ANGSTROM, charge=0, spin=0, basis=basis,max_memory=None)\n",
    "\n",
    "#integral h_{lm} , h_{lmpq}\n",
    "molecule = driver.run()\n",
    "h1 = molecule.one_body_integrals\n",
    "h2 = molecule.two_body_integrals\n",
    "nuclear_repulsion_energy = molecule.nuclear_repulsion_energy\n",
    "\n",
    "num_particles = molecule.num_alpha + molecule.num_beta\n",
    "num_spin_orbitals = molecule.num_orbitals * 2\n",
    "print(\"HF energy: {}\".format(molecule.hf_energy - molecule.nuclear_repulsion_energy))\n",
    "print(\"# nr. of electrons: {}\".format(num_particles))\n",
    "print(\"# nr. of spin orbitals: {}\".format(num_spin_orbitals))\n",
    "#print('# one elctron integral:\\n',h1)\n",
    "#print('# two elctron integral:\\n',h2)\n",
    "\n",
    "ferOp = FermionicOperator(h1=h1, h2=h2)\n",
    "qubitOp = ferOp.mapping(map_type='jordan_wigner')\n",
    "print(qubitOp)\n",
    "print(qubitOp.print_details())\n",
    "\n",
    "weight=[]\n",
    "pauli=[]\n",
    "for w,i in qubitOp._paulis:\n",
    "    weight.append(w)\n",
    "    pauli.append(i.to_label())\n",
    "    \n",
    "nr_o=num_spin_orbitals\n",
    "nr_e=num_particles\n",
    "nr_par=(nr_o-nr_e)*nr_e"
   ]
  },
  {
   "cell_type": "code",
   "execution_count": 149,
   "id": "seasonal-order",
   "metadata": {},
   "outputs": [
    {
     "name": "stdout",
     "output_type": "stream",
     "text": [
      "theta, ['theta[0]', 'theta[1]', 'theta[2]', 'theta[3]', 'theta[4]']\n"
     ]
    }
   ],
   "source": [
    "params = ParameterVector('theta',nr_par+1)\n",
    "print(params)"
   ]
  },
  {
   "cell_type": "code",
   "execution_count": 150,
   "id": "complex-bulgarian",
   "metadata": {},
   "outputs": [],
   "source": [
    "def var_circ_qiskit(nr_o,nr_e,params):\n",
    "    \n",
    "    circ = QuantumCircuit(nr_o)\n",
    "    \n",
    "    #initialize\n",
    "    for i in range(nr_e):\n",
    "        circ.x(i)\n",
    "    \n",
    "    #ansatz\n",
    "    it=0\n",
    "    start=nr_e-1\n",
    "    limit=nr_o\n",
    "    \n",
    "    while start!=-1:\n",
    "        \n",
    "        cq=start\n",
    "        tq=start+1\n",
    "        \n",
    "        while tq<limit:\n",
    "            circ.cx(cq,tq)\n",
    "            circ.z(cq)\n",
    "            circ.cry((np.pi/2-params[it])*2,tq,cq)\n",
    "            circ.cx(cq,tq)\n",
    "            cq=cq+1\n",
    "            tq=tq+1\n",
    "            it=it+1\n",
    "\n",
    "        start=start-1\n",
    "        limit=limit-1\n",
    "        \n",
    "    return circ"
   ]
  },
  {
   "cell_type": "code",
   "execution_count": 151,
   "id": "superior-controversy",
   "metadata": {},
   "outputs": [
    {
     "data": {
      "image/png": "[encoded data removed]",
      "text/plain": [
       "<Figure size 1049.8x264.88 with 1 Axes>"
      ]
     },
     "execution_count": 151,
     "metadata": {},
     "output_type": "execute_result"
    }
   ],
   "source": [
    "circ=var_circ_qiskit(nr_o,nr_e,params)\n",
    "circ.draw('mpl')"
   ]
  },
  {
   "cell_type": "code",
   "execution_count": 152,
   "id": "diverse-fisher",
   "metadata": {},
   "outputs": [],
   "source": [
    "def store_intermediate_result(eval_count, parameters, mean, std):\n",
    "            counts.append(eval_count)\n",
    "            values.append(mean)\n",
    "            params.append(parameters)\n",
    "            deviation.append(std)"
   ]
  },
  {
   "cell_type": "code",
   "execution_count": 153,
   "id": "systematic-pension",
   "metadata": {},
   "outputs": [],
   "source": [
    "seed= 125\n",
    "shots=100\n",
    "optim = COBYLA(maxiter=1000)"
   ]
  },
  {
   "cell_type": "code",
   "execution_count": 154,
   "id": "wired-frequency",
   "metadata": {},
   "outputs": [],
   "source": [
    "vqe= VQE(operator=qubitOp, var_form=circ, optimizer=optim,callback=store_intermediate_result)"
   ]
  },
  {
   "cell_type": "code",
   "execution_count": 155,
   "id": "thermal-arkansas",
   "metadata": {},
   "outputs": [],
   "source": [
    "counts=[]\n",
    "values=[]\n",
    "params=[]\n",
    "deviation=[]\n",
    "\n",
    "\n",
    "quantum_instance = QuantumInstance(backend, shots=shots, seed_simulator=seed, seed_transpiler=seed)\n",
    "result_shots = vqe.run(quantum_instance)"
   ]
  },
  {
   "cell_type": "code",
   "execution_count": 156,
   "id": "first-local",
   "metadata": {},
   "outputs": [
    {
     "name": "stdout",
     "output_type": "stream",
     "text": [
      "VQE result: -1.3606029105023634\n",
      "Exact solver: [-1.39345197]\n"
     ]
    },
    {
     "data": {
      "image/png": "[encoded data removed]",
      "text/plain": [
       "<Figure size 432x288 with 1 Axes>"
      ]
     },
     "metadata": {
      "needs_background": "light"
     },
     "output_type": "display_data"
    }
   ],
   "source": [
    "exact=Exact_solver(qubitOp)\n",
    "print(\"VQE result:\",values[-1])\n",
    "print(\"Exact solver:\",exact[0])\n",
    "\n",
    "plt.plot(values)\n",
    "\n",
    "x=np.linspace(0,len(values))\n",
    "y=[exact for i in range(len(x))]\n",
    "plt.plot(x, y, '-r', label='Ideal_value')\n",
    "\n",
    "plt.show()"
   ]
  },
  {
   "cell_type": "code",
   "execution_count": null,
   "id": "improving-tucson",
   "metadata": {},
   "outputs": [],
   "source": []
  }
 ],
 "metadata": {
  "kernelspec": {
   "display_name": "Python 3",
   "language": "python",
   "name": "python3"
  },
  "language_info": {
   "codemirror_mode": {
    "name": "ipython",
    "version": 3
   },
   "file_extension": ".py",
   "mimetype": "text/x-python",
   "name": "python",
   "nbconvert_exporter": "python",
   "pygments_lexer": "ipython3",
   "version": "3.7.10"
  }
 },
 "nbformat": 4,
 "nbformat_minor": 5
}
